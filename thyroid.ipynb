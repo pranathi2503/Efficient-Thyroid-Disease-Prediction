{
 "cells": [
  {
   "cell_type": "code",
   "execution_count": 1,
   "metadata": {},
   "outputs": [],
   "source": [
    "import pandas as pd\n",
    "import matplotlib.pyplot as plt\n",
    "from functools import reduce"
   ]
  },
  {
   "cell_type": "code",
   "execution_count": 2,
   "metadata": {},
   "outputs": [],
   "source": [
    "df = pd.read_csv('dataset_thyroid_sick.csv', encoding= 'unicode_escape')"
   ]
  },
  {
   "cell_type": "code",
   "execution_count": 3,
   "metadata": {},
   "outputs": [
    {
     "data": {
      "text/html": [
       "<div>\n",
       "<style scoped>\n",
       "    .dataframe tbody tr th:only-of-type {\n",
       "        vertical-align: middle;\n",
       "    }\n",
       "\n",
       "    .dataframe tbody tr th {\n",
       "        vertical-align: top;\n",
       "    }\n",
       "\n",
       "    .dataframe thead th {\n",
       "        text-align: right;\n",
       "    }\n",
       "</style>\n",
       "<table border=\"1\" class=\"dataframe\">\n",
       "  <thead>\n",
       "    <tr style=\"text-align: right;\">\n",
       "      <th></th>\n",
       "      <th>age</th>\n",
       "      <th>sex</th>\n",
       "      <th>on_thyroxine</th>\n",
       "      <th>query_on_thyroxine</th>\n",
       "      <th>on_antithyroid_medication</th>\n",
       "      <th>sick</th>\n",
       "      <th>pregnant</th>\n",
       "      <th>thyroid_surgery</th>\n",
       "      <th>I131_treatment</th>\n",
       "      <th>query_hypothyroid</th>\n",
       "      <th>...</th>\n",
       "      <th>TT4_measured</th>\n",
       "      <th>TT4</th>\n",
       "      <th>T4U_measured</th>\n",
       "      <th>T4U</th>\n",
       "      <th>FTI_measured</th>\n",
       "      <th>FTI</th>\n",
       "      <th>TBG_measured</th>\n",
       "      <th>TBG</th>\n",
       "      <th>referral_source</th>\n",
       "      <th>Class</th>\n",
       "    </tr>\n",
       "  </thead>\n",
       "  <tbody>\n",
       "    <tr>\n",
       "      <th>0</th>\n",
       "      <td>41</td>\n",
       "      <td>F</td>\n",
       "      <td>f</td>\n",
       "      <td>f</td>\n",
       "      <td>f</td>\n",
       "      <td>f</td>\n",
       "      <td>f</td>\n",
       "      <td>f</td>\n",
       "      <td>f</td>\n",
       "      <td>f</td>\n",
       "      <td>...</td>\n",
       "      <td>t</td>\n",
       "      <td>125</td>\n",
       "      <td>t</td>\n",
       "      <td>1.14</td>\n",
       "      <td>t</td>\n",
       "      <td>109</td>\n",
       "      <td>f</td>\n",
       "      <td>?</td>\n",
       "      <td>SVHC</td>\n",
       "      <td>negative</td>\n",
       "    </tr>\n",
       "    <tr>\n",
       "      <th>1</th>\n",
       "      <td>23</td>\n",
       "      <td>F</td>\n",
       "      <td>f</td>\n",
       "      <td>f</td>\n",
       "      <td>f</td>\n",
       "      <td>f</td>\n",
       "      <td>f</td>\n",
       "      <td>f</td>\n",
       "      <td>f</td>\n",
       "      <td>f</td>\n",
       "      <td>...</td>\n",
       "      <td>t</td>\n",
       "      <td>102</td>\n",
       "      <td>f</td>\n",
       "      <td>?</td>\n",
       "      <td>f</td>\n",
       "      <td>?</td>\n",
       "      <td>f</td>\n",
       "      <td>?</td>\n",
       "      <td>other</td>\n",
       "      <td>negative</td>\n",
       "    </tr>\n",
       "    <tr>\n",
       "      <th>2</th>\n",
       "      <td>46</td>\n",
       "      <td>M</td>\n",
       "      <td>f</td>\n",
       "      <td>f</td>\n",
       "      <td>f</td>\n",
       "      <td>f</td>\n",
       "      <td>f</td>\n",
       "      <td>f</td>\n",
       "      <td>f</td>\n",
       "      <td>f</td>\n",
       "      <td>...</td>\n",
       "      <td>t</td>\n",
       "      <td>109</td>\n",
       "      <td>t</td>\n",
       "      <td>0.91</td>\n",
       "      <td>t</td>\n",
       "      <td>120</td>\n",
       "      <td>f</td>\n",
       "      <td>?</td>\n",
       "      <td>other</td>\n",
       "      <td>negative</td>\n",
       "    </tr>\n",
       "    <tr>\n",
       "      <th>3</th>\n",
       "      <td>70</td>\n",
       "      <td>F</td>\n",
       "      <td>t</td>\n",
       "      <td>f</td>\n",
       "      <td>f</td>\n",
       "      <td>f</td>\n",
       "      <td>f</td>\n",
       "      <td>f</td>\n",
       "      <td>f</td>\n",
       "      <td>f</td>\n",
       "      <td>...</td>\n",
       "      <td>t</td>\n",
       "      <td>175</td>\n",
       "      <td>f</td>\n",
       "      <td>?</td>\n",
       "      <td>f</td>\n",
       "      <td>?</td>\n",
       "      <td>f</td>\n",
       "      <td>?</td>\n",
       "      <td>other</td>\n",
       "      <td>negative</td>\n",
       "    </tr>\n",
       "    <tr>\n",
       "      <th>4</th>\n",
       "      <td>70</td>\n",
       "      <td>F</td>\n",
       "      <td>f</td>\n",
       "      <td>f</td>\n",
       "      <td>f</td>\n",
       "      <td>f</td>\n",
       "      <td>f</td>\n",
       "      <td>f</td>\n",
       "      <td>f</td>\n",
       "      <td>f</td>\n",
       "      <td>...</td>\n",
       "      <td>t</td>\n",
       "      <td>61</td>\n",
       "      <td>t</td>\n",
       "      <td>0.87</td>\n",
       "      <td>t</td>\n",
       "      <td>70</td>\n",
       "      <td>f</td>\n",
       "      <td>?</td>\n",
       "      <td>SVI</td>\n",
       "      <td>negative</td>\n",
       "    </tr>\n",
       "    <tr>\n",
       "      <th>...</th>\n",
       "      <td>...</td>\n",
       "      <td>...</td>\n",
       "      <td>...</td>\n",
       "      <td>...</td>\n",
       "      <td>...</td>\n",
       "      <td>...</td>\n",
       "      <td>...</td>\n",
       "      <td>...</td>\n",
       "      <td>...</td>\n",
       "      <td>...</td>\n",
       "      <td>...</td>\n",
       "      <td>...</td>\n",
       "      <td>...</td>\n",
       "      <td>...</td>\n",
       "      <td>...</td>\n",
       "      <td>...</td>\n",
       "      <td>...</td>\n",
       "      <td>...</td>\n",
       "      <td>...</td>\n",
       "      <td>...</td>\n",
       "      <td>...</td>\n",
       "    </tr>\n",
       "    <tr>\n",
       "      <th>3767</th>\n",
       "      <td>30</td>\n",
       "      <td>F</td>\n",
       "      <td>f</td>\n",
       "      <td>f</td>\n",
       "      <td>f</td>\n",
       "      <td>f</td>\n",
       "      <td>f</td>\n",
       "      <td>f</td>\n",
       "      <td>f</td>\n",
       "      <td>f</td>\n",
       "      <td>...</td>\n",
       "      <td>f</td>\n",
       "      <td>?</td>\n",
       "      <td>f</td>\n",
       "      <td>?</td>\n",
       "      <td>f</td>\n",
       "      <td>?</td>\n",
       "      <td>f</td>\n",
       "      <td>?</td>\n",
       "      <td>other</td>\n",
       "      <td>negative</td>\n",
       "    </tr>\n",
       "    <tr>\n",
       "      <th>3768</th>\n",
       "      <td>68</td>\n",
       "      <td>F</td>\n",
       "      <td>f</td>\n",
       "      <td>f</td>\n",
       "      <td>f</td>\n",
       "      <td>f</td>\n",
       "      <td>f</td>\n",
       "      <td>f</td>\n",
       "      <td>f</td>\n",
       "      <td>f</td>\n",
       "      <td>...</td>\n",
       "      <td>t</td>\n",
       "      <td>124</td>\n",
       "      <td>t</td>\n",
       "      <td>1.08</td>\n",
       "      <td>t</td>\n",
       "      <td>114</td>\n",
       "      <td>f</td>\n",
       "      <td>?</td>\n",
       "      <td>SVI</td>\n",
       "      <td>negative</td>\n",
       "    </tr>\n",
       "    <tr>\n",
       "      <th>3769</th>\n",
       "      <td>74</td>\n",
       "      <td>F</td>\n",
       "      <td>f</td>\n",
       "      <td>f</td>\n",
       "      <td>f</td>\n",
       "      <td>f</td>\n",
       "      <td>f</td>\n",
       "      <td>f</td>\n",
       "      <td>f</td>\n",
       "      <td>f</td>\n",
       "      <td>...</td>\n",
       "      <td>t</td>\n",
       "      <td>112</td>\n",
       "      <td>t</td>\n",
       "      <td>1.07</td>\n",
       "      <td>t</td>\n",
       "      <td>105</td>\n",
       "      <td>f</td>\n",
       "      <td>?</td>\n",
       "      <td>other</td>\n",
       "      <td>negative</td>\n",
       "    </tr>\n",
       "    <tr>\n",
       "      <th>3770</th>\n",
       "      <td>72</td>\n",
       "      <td>M</td>\n",
       "      <td>f</td>\n",
       "      <td>f</td>\n",
       "      <td>f</td>\n",
       "      <td>f</td>\n",
       "      <td>f</td>\n",
       "      <td>f</td>\n",
       "      <td>f</td>\n",
       "      <td>f</td>\n",
       "      <td>...</td>\n",
       "      <td>t</td>\n",
       "      <td>82</td>\n",
       "      <td>t</td>\n",
       "      <td>0.94</td>\n",
       "      <td>t</td>\n",
       "      <td>87</td>\n",
       "      <td>f</td>\n",
       "      <td>?</td>\n",
       "      <td>SVI</td>\n",
       "      <td>negative</td>\n",
       "    </tr>\n",
       "    <tr>\n",
       "      <th>3771</th>\n",
       "      <td>64</td>\n",
       "      <td>F</td>\n",
       "      <td>f</td>\n",
       "      <td>f</td>\n",
       "      <td>f</td>\n",
       "      <td>f</td>\n",
       "      <td>f</td>\n",
       "      <td>f</td>\n",
       "      <td>f</td>\n",
       "      <td>f</td>\n",
       "      <td>...</td>\n",
       "      <td>t</td>\n",
       "      <td>99</td>\n",
       "      <td>t</td>\n",
       "      <td>1.07</td>\n",
       "      <td>t</td>\n",
       "      <td>92</td>\n",
       "      <td>f</td>\n",
       "      <td>?</td>\n",
       "      <td>other</td>\n",
       "      <td>negative</td>\n",
       "    </tr>\n",
       "  </tbody>\n",
       "</table>\n",
       "<p>3772 rows × 30 columns</p>\n",
       "</div>"
      ],
      "text/plain": [
       "     age sex on_thyroxine query_on_thyroxine on_antithyroid_medication sick  \\\n",
       "0     41   F            f                  f                         f    f   \n",
       "1     23   F            f                  f                         f    f   \n",
       "2     46   M            f                  f                         f    f   \n",
       "3     70   F            t                  f                         f    f   \n",
       "4     70   F            f                  f                         f    f   \n",
       "...   ..  ..          ...                ...                       ...  ...   \n",
       "3767  30   F            f                  f                         f    f   \n",
       "3768  68   F            f                  f                         f    f   \n",
       "3769  74   F            f                  f                         f    f   \n",
       "3770  72   M            f                  f                         f    f   \n",
       "3771  64   F            f                  f                         f    f   \n",
       "\n",
       "     pregnant thyroid_surgery I131_treatment query_hypothyroid  ...  \\\n",
       "0           f               f              f                 f  ...   \n",
       "1           f               f              f                 f  ...   \n",
       "2           f               f              f                 f  ...   \n",
       "3           f               f              f                 f  ...   \n",
       "4           f               f              f                 f  ...   \n",
       "...       ...             ...            ...               ...  ...   \n",
       "3767        f               f              f                 f  ...   \n",
       "3768        f               f              f                 f  ...   \n",
       "3769        f               f              f                 f  ...   \n",
       "3770        f               f              f                 f  ...   \n",
       "3771        f               f              f                 f  ...   \n",
       "\n",
       "     TT4_measured  TT4 T4U_measured   T4U FTI_measured  FTI TBG_measured TBG  \\\n",
       "0               t  125            t  1.14            t  109            f   ?   \n",
       "1               t  102            f     ?            f    ?            f   ?   \n",
       "2               t  109            t  0.91            t  120            f   ?   \n",
       "3               t  175            f     ?            f    ?            f   ?   \n",
       "4               t   61            t  0.87            t   70            f   ?   \n",
       "...           ...  ...          ...   ...          ...  ...          ...  ..   \n",
       "3767            f    ?            f     ?            f    ?            f   ?   \n",
       "3768            t  124            t  1.08            t  114            f   ?   \n",
       "3769            t  112            t  1.07            t  105            f   ?   \n",
       "3770            t   82            t  0.94            t   87            f   ?   \n",
       "3771            t   99            t  1.07            t   92            f   ?   \n",
       "\n",
       "     referral_source     Class  \n",
       "0               SVHC  negative  \n",
       "1              other  negative  \n",
       "2              other  negative  \n",
       "3              other  negative  \n",
       "4                SVI  negative  \n",
       "...              ...       ...  \n",
       "3767           other  negative  \n",
       "3768             SVI  negative  \n",
       "3769           other  negative  \n",
       "3770             SVI  negative  \n",
       "3771           other  negative  \n",
       "\n",
       "[3772 rows x 30 columns]"
      ]
     },
     "execution_count": 3,
     "metadata": {},
     "output_type": "execute_result"
    }
   ],
   "source": [
    "df"
   ]
  },
  {
   "cell_type": "code",
   "execution_count": 4,
   "metadata": {},
   "outputs": [
    {
     "data": {
      "text/plain": [
       "age                          object\n",
       "sex                          object\n",
       "on_thyroxine                 object\n",
       "query_on_thyroxine           object\n",
       "on_antithyroid_medication    object\n",
       "sick                         object\n",
       "pregnant                     object\n",
       "thyroid_surgery              object\n",
       "I131_treatment               object\n",
       "query_hypothyroid            object\n",
       "query_hyperthyroid           object\n",
       "lithium                      object\n",
       "goitre                       object\n",
       "tumor                        object\n",
       "hypopituitary                object\n",
       "psych                        object\n",
       "TSH_measured                 object\n",
       "TSH                          object\n",
       "T3_measured                  object\n",
       "T3                           object\n",
       "TT4_measured                 object\n",
       "TT4                          object\n",
       "T4U_measured                 object\n",
       "T4U                          object\n",
       "FTI_measured                 object\n",
       "FTI                          object\n",
       "TBG_measured                 object\n",
       "TBG                          object\n",
       "referral_source              object\n",
       "Class                        object\n",
       "dtype: object"
      ]
     },
     "execution_count": 4,
     "metadata": {},
     "output_type": "execute_result"
    }
   ],
   "source": [
    "df.dtypes"
   ]
  },
  {
   "cell_type": "code",
   "execution_count": 5,
   "metadata": {},
   "outputs": [
    {
     "data": {
      "text/plain": [
       "age                          0\n",
       "sex                          0\n",
       "on_thyroxine                 0\n",
       "query_on_thyroxine           0\n",
       "on_antithyroid_medication    0\n",
       "sick                         0\n",
       "pregnant                     0\n",
       "thyroid_surgery              0\n",
       "I131_treatment               0\n",
       "query_hypothyroid            0\n",
       "query_hyperthyroid           0\n",
       "lithium                      0\n",
       "goitre                       0\n",
       "tumor                        0\n",
       "hypopituitary                0\n",
       "psych                        0\n",
       "TSH_measured                 0\n",
       "TSH                          0\n",
       "T3_measured                  0\n",
       "T3                           0\n",
       "TT4_measured                 0\n",
       "TT4                          0\n",
       "T4U_measured                 0\n",
       "T4U                          0\n",
       "FTI_measured                 0\n",
       "FTI                          0\n",
       "TBG_measured                 0\n",
       "TBG                          0\n",
       "referral_source              0\n",
       "Class                        0\n",
       "dtype: int64"
      ]
     },
     "execution_count": 5,
     "metadata": {},
     "output_type": "execute_result"
    }
   ],
   "source": [
    "df.isnull().sum()"
   ]
  },
  {
   "cell_type": "code",
   "execution_count": 6,
   "metadata": {},
   "outputs": [
    {
     "name": "stdout",
     "output_type": "stream",
     "text": [
      "<class 'pandas.core.frame.DataFrame'>\n",
      "RangeIndex: 3772 entries, 0 to 3771\n",
      "Data columns (total 30 columns):\n",
      " #   Column                     Non-Null Count  Dtype \n",
      "---  ------                     --------------  ----- \n",
      " 0   age                        3772 non-null   object\n",
      " 1   sex                        3772 non-null   object\n",
      " 2   on_thyroxine               3772 non-null   object\n",
      " 3   query_on_thyroxine         3772 non-null   object\n",
      " 4   on_antithyroid_medication  3772 non-null   object\n",
      " 5   sick                       3772 non-null   object\n",
      " 6   pregnant                   3772 non-null   object\n",
      " 7   thyroid_surgery            3772 non-null   object\n",
      " 8   I131_treatment             3772 non-null   object\n",
      " 9   query_hypothyroid          3772 non-null   object\n",
      " 10  query_hyperthyroid         3772 non-null   object\n",
      " 11  lithium                    3772 non-null   object\n",
      " 12  goitre                     3772 non-null   object\n",
      " 13  tumor                      3772 non-null   object\n",
      " 14  hypopituitary              3772 non-null   object\n",
      " 15  psych                      3772 non-null   object\n",
      " 16  TSH_measured               3772 non-null   object\n",
      " 17  TSH                        3772 non-null   object\n",
      " 18  T3_measured                3772 non-null   object\n",
      " 19  T3                         3772 non-null   object\n",
      " 20  TT4_measured               3772 non-null   object\n",
      " 21  TT4                        3772 non-null   object\n",
      " 22  T4U_measured               3772 non-null   object\n",
      " 23  T4U                        3772 non-null   object\n",
      " 24  FTI_measured               3772 non-null   object\n",
      " 25  FTI                        3772 non-null   object\n",
      " 26  TBG_measured               3772 non-null   object\n",
      " 27  TBG                        3772 non-null   object\n",
      " 28  referral_source            3772 non-null   object\n",
      " 29  Class                      3772 non-null   object\n",
      "dtypes: object(30)\n",
      "memory usage: 884.2+ KB\n"
     ]
    }
   ],
   "source": [
    "df.info()"
   ]
  },
  {
   "cell_type": "code",
   "execution_count": 7,
   "metadata": {},
   "outputs": [],
   "source": [
    "import numpy as np"
   ]
  },
  {
   "cell_type": "code",
   "execution_count": 8,
   "metadata": {},
   "outputs": [],
   "source": [
    "df = df.replace('?', np.nan)"
   ]
  },
  {
   "cell_type": "code",
   "execution_count": 9,
   "metadata": {},
   "outputs": [
    {
     "name": "stdout",
     "output_type": "stream",
     "text": [
      "<class 'pandas.core.frame.DataFrame'>\n",
      "RangeIndex: 3772 entries, 0 to 3771\n",
      "Data columns (total 30 columns):\n",
      " #   Column                     Non-Null Count  Dtype  \n",
      "---  ------                     --------------  -----  \n",
      " 0   age                        3771 non-null   object \n",
      " 1   sex                        3622 non-null   object \n",
      " 2   on_thyroxine               3772 non-null   object \n",
      " 3   query_on_thyroxine         3772 non-null   object \n",
      " 4   on_antithyroid_medication  3772 non-null   object \n",
      " 5   sick                       3772 non-null   object \n",
      " 6   pregnant                   3772 non-null   object \n",
      " 7   thyroid_surgery            3772 non-null   object \n",
      " 8   I131_treatment             3772 non-null   object \n",
      " 9   query_hypothyroid          3772 non-null   object \n",
      " 10  query_hyperthyroid         3772 non-null   object \n",
      " 11  lithium                    3772 non-null   object \n",
      " 12  goitre                     3772 non-null   object \n",
      " 13  tumor                      3772 non-null   object \n",
      " 14  hypopituitary              3772 non-null   object \n",
      " 15  psych                      3772 non-null   object \n",
      " 16  TSH_measured               3772 non-null   object \n",
      " 17  TSH                        3403 non-null   object \n",
      " 18  T3_measured                3772 non-null   object \n",
      " 19  T3                         3003 non-null   object \n",
      " 20  TT4_measured               3772 non-null   object \n",
      " 21  TT4                        3541 non-null   object \n",
      " 22  T4U_measured               3772 non-null   object \n",
      " 23  T4U                        3385 non-null   object \n",
      " 24  FTI_measured               3772 non-null   object \n",
      " 25  FTI                        3387 non-null   object \n",
      " 26  TBG_measured               3772 non-null   object \n",
      " 27  TBG                        0 non-null      float64\n",
      " 28  referral_source            3772 non-null   object \n",
      " 29  Class                      3772 non-null   object \n",
      "dtypes: float64(1), object(29)\n",
      "memory usage: 884.2+ KB\n"
     ]
    }
   ],
   "source": [
    "df.info()"
   ]
  },
  {
   "cell_type": "code",
   "execution_count": 10,
   "metadata": {},
   "outputs": [
    {
     "data": {
      "text/plain": [
       "age                             1\n",
       "sex                           150\n",
       "on_thyroxine                    0\n",
       "query_on_thyroxine              0\n",
       "on_antithyroid_medication       0\n",
       "sick                            0\n",
       "pregnant                        0\n",
       "thyroid_surgery                 0\n",
       "I131_treatment                  0\n",
       "query_hypothyroid               0\n",
       "query_hyperthyroid              0\n",
       "lithium                         0\n",
       "goitre                          0\n",
       "tumor                           0\n",
       "hypopituitary                   0\n",
       "psych                           0\n",
       "TSH_measured                    0\n",
       "TSH                           369\n",
       "T3_measured                     0\n",
       "T3                            769\n",
       "TT4_measured                    0\n",
       "TT4                           231\n",
       "T4U_measured                    0\n",
       "T4U                           387\n",
       "FTI_measured                    0\n",
       "FTI                           385\n",
       "TBG_measured                    0\n",
       "TBG                          3772\n",
       "referral_source                 0\n",
       "Class                           0\n",
       "dtype: int64"
      ]
     },
     "execution_count": 10,
     "metadata": {},
     "output_type": "execute_result"
    }
   ],
   "source": [
    "df.isnull().sum()"
   ]
  },
  {
   "cell_type": "code",
   "execution_count": 11,
   "metadata": {},
   "outputs": [],
   "source": [
    "df=df.drop('TBG',axis=1)"
   ]
  },
  {
   "cell_type": "code",
   "execution_count": 12,
   "metadata": {},
   "outputs": [],
   "source": [
    "df=df.dropna()"
   ]
  },
  {
   "cell_type": "code",
   "execution_count": 13,
   "metadata": {},
   "outputs": [
    {
     "name": "stdout",
     "output_type": "stream",
     "text": [
      "<class 'pandas.core.frame.DataFrame'>\n",
      "Int64Index: 2643 entries, 0 to 3771\n",
      "Data columns (total 29 columns):\n",
      " #   Column                     Non-Null Count  Dtype \n",
      "---  ------                     --------------  ----- \n",
      " 0   age                        2643 non-null   object\n",
      " 1   sex                        2643 non-null   object\n",
      " 2   on_thyroxine               2643 non-null   object\n",
      " 3   query_on_thyroxine         2643 non-null   object\n",
      " 4   on_antithyroid_medication  2643 non-null   object\n",
      " 5   sick                       2643 non-null   object\n",
      " 6   pregnant                   2643 non-null   object\n",
      " 7   thyroid_surgery            2643 non-null   object\n",
      " 8   I131_treatment             2643 non-null   object\n",
      " 9   query_hypothyroid          2643 non-null   object\n",
      " 10  query_hyperthyroid         2643 non-null   object\n",
      " 11  lithium                    2643 non-null   object\n",
      " 12  goitre                     2643 non-null   object\n",
      " 13  tumor                      2643 non-null   object\n",
      " 14  hypopituitary              2643 non-null   object\n",
      " 15  psych                      2643 non-null   object\n",
      " 16  TSH_measured               2643 non-null   object\n",
      " 17  TSH                        2643 non-null   object\n",
      " 18  T3_measured                2643 non-null   object\n",
      " 19  T3                         2643 non-null   object\n",
      " 20  TT4_measured               2643 non-null   object\n",
      " 21  TT4                        2643 non-null   object\n",
      " 22  T4U_measured               2643 non-null   object\n",
      " 23  T4U                        2643 non-null   object\n",
      " 24  FTI_measured               2643 non-null   object\n",
      " 25  FTI                        2643 non-null   object\n",
      " 26  TBG_measured               2643 non-null   object\n",
      " 27  referral_source            2643 non-null   object\n",
      " 28  Class                      2643 non-null   object\n",
      "dtypes: object(29)\n",
      "memory usage: 619.5+ KB\n"
     ]
    }
   ],
   "source": [
    "df.info()"
   ]
  },
  {
   "cell_type": "markdown",
   "metadata": {},
   "source": [
    "I changed dtype of some features which have numbers to float and int."
   ]
  },
  {
   "cell_type": "code",
   "execution_count": 14,
   "metadata": {},
   "outputs": [],
   "source": [
    "df[['TSH','T3','TT4','T4U','FTI']]=df[['TSH','T3','TT4','T4U','FTI']].astype(float)"
   ]
  },
  {
   "cell_type": "code",
   "execution_count": 15,
   "metadata": {},
   "outputs": [],
   "source": [
    "df['age']=df['age'].astype(int)"
   ]
  },
  {
   "cell_type": "code",
   "execution_count": 16,
   "metadata": {},
   "outputs": [
    {
     "data": {
      "text/html": [
       "<div>\n",
       "<style scoped>\n",
       "    .dataframe tbody tr th:only-of-type {\n",
       "        vertical-align: middle;\n",
       "    }\n",
       "\n",
       "    .dataframe tbody tr th {\n",
       "        vertical-align: top;\n",
       "    }\n",
       "\n",
       "    .dataframe thead th {\n",
       "        text-align: right;\n",
       "    }\n",
       "</style>\n",
       "<table border=\"1\" class=\"dataframe\">\n",
       "  <thead>\n",
       "    <tr style=\"text-align: right;\">\n",
       "      <th></th>\n",
       "      <th>age</th>\n",
       "      <th>sex</th>\n",
       "      <th>on_thyroxine</th>\n",
       "      <th>query_on_thyroxine</th>\n",
       "      <th>on_antithyroid_medication</th>\n",
       "      <th>sick</th>\n",
       "      <th>pregnant</th>\n",
       "      <th>thyroid_surgery</th>\n",
       "      <th>I131_treatment</th>\n",
       "      <th>query_hypothyroid</th>\n",
       "      <th>...</th>\n",
       "      <th>T3</th>\n",
       "      <th>TT4_measured</th>\n",
       "      <th>TT4</th>\n",
       "      <th>T4U_measured</th>\n",
       "      <th>T4U</th>\n",
       "      <th>FTI_measured</th>\n",
       "      <th>FTI</th>\n",
       "      <th>TBG_measured</th>\n",
       "      <th>referral_source</th>\n",
       "      <th>Class</th>\n",
       "    </tr>\n",
       "  </thead>\n",
       "  <tbody>\n",
       "    <tr>\n",
       "      <th>0</th>\n",
       "      <td>41</td>\n",
       "      <td>F</td>\n",
       "      <td>f</td>\n",
       "      <td>f</td>\n",
       "      <td>f</td>\n",
       "      <td>f</td>\n",
       "      <td>f</td>\n",
       "      <td>f</td>\n",
       "      <td>f</td>\n",
       "      <td>f</td>\n",
       "      <td>...</td>\n",
       "      <td>2.5</td>\n",
       "      <td>t</td>\n",
       "      <td>125.0</td>\n",
       "      <td>t</td>\n",
       "      <td>1.14</td>\n",
       "      <td>t</td>\n",
       "      <td>109.0</td>\n",
       "      <td>f</td>\n",
       "      <td>SVHC</td>\n",
       "      <td>negative</td>\n",
       "    </tr>\n",
       "    <tr>\n",
       "      <th>4</th>\n",
       "      <td>70</td>\n",
       "      <td>F</td>\n",
       "      <td>f</td>\n",
       "      <td>f</td>\n",
       "      <td>f</td>\n",
       "      <td>f</td>\n",
       "      <td>f</td>\n",
       "      <td>f</td>\n",
       "      <td>f</td>\n",
       "      <td>f</td>\n",
       "      <td>...</td>\n",
       "      <td>1.2</td>\n",
       "      <td>t</td>\n",
       "      <td>61.0</td>\n",
       "      <td>t</td>\n",
       "      <td>0.87</td>\n",
       "      <td>t</td>\n",
       "      <td>70.0</td>\n",
       "      <td>f</td>\n",
       "      <td>SVI</td>\n",
       "      <td>negative</td>\n",
       "    </tr>\n",
       "    <tr>\n",
       "      <th>7</th>\n",
       "      <td>80</td>\n",
       "      <td>F</td>\n",
       "      <td>f</td>\n",
       "      <td>f</td>\n",
       "      <td>f</td>\n",
       "      <td>f</td>\n",
       "      <td>f</td>\n",
       "      <td>f</td>\n",
       "      <td>f</td>\n",
       "      <td>f</td>\n",
       "      <td>...</td>\n",
       "      <td>0.6</td>\n",
       "      <td>t</td>\n",
       "      <td>80.0</td>\n",
       "      <td>t</td>\n",
       "      <td>0.70</td>\n",
       "      <td>t</td>\n",
       "      <td>115.0</td>\n",
       "      <td>f</td>\n",
       "      <td>SVI</td>\n",
       "      <td>sick</td>\n",
       "    </tr>\n",
       "    <tr>\n",
       "      <th>8</th>\n",
       "      <td>66</td>\n",
       "      <td>F</td>\n",
       "      <td>f</td>\n",
       "      <td>f</td>\n",
       "      <td>f</td>\n",
       "      <td>f</td>\n",
       "      <td>f</td>\n",
       "      <td>f</td>\n",
       "      <td>f</td>\n",
       "      <td>f</td>\n",
       "      <td>...</td>\n",
       "      <td>2.2</td>\n",
       "      <td>t</td>\n",
       "      <td>123.0</td>\n",
       "      <td>t</td>\n",
       "      <td>0.93</td>\n",
       "      <td>t</td>\n",
       "      <td>132.0</td>\n",
       "      <td>f</td>\n",
       "      <td>SVI</td>\n",
       "      <td>negative</td>\n",
       "    </tr>\n",
       "    <tr>\n",
       "      <th>9</th>\n",
       "      <td>68</td>\n",
       "      <td>M</td>\n",
       "      <td>f</td>\n",
       "      <td>f</td>\n",
       "      <td>f</td>\n",
       "      <td>f</td>\n",
       "      <td>f</td>\n",
       "      <td>f</td>\n",
       "      <td>f</td>\n",
       "      <td>f</td>\n",
       "      <td>...</td>\n",
       "      <td>1.6</td>\n",
       "      <td>t</td>\n",
       "      <td>83.0</td>\n",
       "      <td>t</td>\n",
       "      <td>0.89</td>\n",
       "      <td>t</td>\n",
       "      <td>93.0</td>\n",
       "      <td>f</td>\n",
       "      <td>SVI</td>\n",
       "      <td>negative</td>\n",
       "    </tr>\n",
       "    <tr>\n",
       "      <th>...</th>\n",
       "      <td>...</td>\n",
       "      <td>...</td>\n",
       "      <td>...</td>\n",
       "      <td>...</td>\n",
       "      <td>...</td>\n",
       "      <td>...</td>\n",
       "      <td>...</td>\n",
       "      <td>...</td>\n",
       "      <td>...</td>\n",
       "      <td>...</td>\n",
       "      <td>...</td>\n",
       "      <td>...</td>\n",
       "      <td>...</td>\n",
       "      <td>...</td>\n",
       "      <td>...</td>\n",
       "      <td>...</td>\n",
       "      <td>...</td>\n",
       "      <td>...</td>\n",
       "      <td>...</td>\n",
       "      <td>...</td>\n",
       "      <td>...</td>\n",
       "    </tr>\n",
       "    <tr>\n",
       "      <th>3766</th>\n",
       "      <td>19</td>\n",
       "      <td>F</td>\n",
       "      <td>f</td>\n",
       "      <td>f</td>\n",
       "      <td>f</td>\n",
       "      <td>f</td>\n",
       "      <td>f</td>\n",
       "      <td>f</td>\n",
       "      <td>f</td>\n",
       "      <td>f</td>\n",
       "      <td>...</td>\n",
       "      <td>2.7</td>\n",
       "      <td>t</td>\n",
       "      <td>108.0</td>\n",
       "      <td>t</td>\n",
       "      <td>1.11</td>\n",
       "      <td>t</td>\n",
       "      <td>97.0</td>\n",
       "      <td>f</td>\n",
       "      <td>other</td>\n",
       "      <td>negative</td>\n",
       "    </tr>\n",
       "    <tr>\n",
       "      <th>3768</th>\n",
       "      <td>68</td>\n",
       "      <td>F</td>\n",
       "      <td>f</td>\n",
       "      <td>f</td>\n",
       "      <td>f</td>\n",
       "      <td>f</td>\n",
       "      <td>f</td>\n",
       "      <td>f</td>\n",
       "      <td>f</td>\n",
       "      <td>f</td>\n",
       "      <td>...</td>\n",
       "      <td>2.1</td>\n",
       "      <td>t</td>\n",
       "      <td>124.0</td>\n",
       "      <td>t</td>\n",
       "      <td>1.08</td>\n",
       "      <td>t</td>\n",
       "      <td>114.0</td>\n",
       "      <td>f</td>\n",
       "      <td>SVI</td>\n",
       "      <td>negative</td>\n",
       "    </tr>\n",
       "    <tr>\n",
       "      <th>3769</th>\n",
       "      <td>74</td>\n",
       "      <td>F</td>\n",
       "      <td>f</td>\n",
       "      <td>f</td>\n",
       "      <td>f</td>\n",
       "      <td>f</td>\n",
       "      <td>f</td>\n",
       "      <td>f</td>\n",
       "      <td>f</td>\n",
       "      <td>f</td>\n",
       "      <td>...</td>\n",
       "      <td>1.8</td>\n",
       "      <td>t</td>\n",
       "      <td>112.0</td>\n",
       "      <td>t</td>\n",
       "      <td>1.07</td>\n",
       "      <td>t</td>\n",
       "      <td>105.0</td>\n",
       "      <td>f</td>\n",
       "      <td>other</td>\n",
       "      <td>negative</td>\n",
       "    </tr>\n",
       "    <tr>\n",
       "      <th>3770</th>\n",
       "      <td>72</td>\n",
       "      <td>M</td>\n",
       "      <td>f</td>\n",
       "      <td>f</td>\n",
       "      <td>f</td>\n",
       "      <td>f</td>\n",
       "      <td>f</td>\n",
       "      <td>f</td>\n",
       "      <td>f</td>\n",
       "      <td>f</td>\n",
       "      <td>...</td>\n",
       "      <td>2.0</td>\n",
       "      <td>t</td>\n",
       "      <td>82.0</td>\n",
       "      <td>t</td>\n",
       "      <td>0.94</td>\n",
       "      <td>t</td>\n",
       "      <td>87.0</td>\n",
       "      <td>f</td>\n",
       "      <td>SVI</td>\n",
       "      <td>negative</td>\n",
       "    </tr>\n",
       "    <tr>\n",
       "      <th>3771</th>\n",
       "      <td>64</td>\n",
       "      <td>F</td>\n",
       "      <td>f</td>\n",
       "      <td>f</td>\n",
       "      <td>f</td>\n",
       "      <td>f</td>\n",
       "      <td>f</td>\n",
       "      <td>f</td>\n",
       "      <td>f</td>\n",
       "      <td>f</td>\n",
       "      <td>...</td>\n",
       "      <td>2.2</td>\n",
       "      <td>t</td>\n",
       "      <td>99.0</td>\n",
       "      <td>t</td>\n",
       "      <td>1.07</td>\n",
       "      <td>t</td>\n",
       "      <td>92.0</td>\n",
       "      <td>f</td>\n",
       "      <td>other</td>\n",
       "      <td>negative</td>\n",
       "    </tr>\n",
       "  </tbody>\n",
       "</table>\n",
       "<p>2643 rows × 29 columns</p>\n",
       "</div>"
      ],
      "text/plain": [
       "      age sex on_thyroxine query_on_thyroxine on_antithyroid_medication sick  \\\n",
       "0      41   F            f                  f                         f    f   \n",
       "4      70   F            f                  f                         f    f   \n",
       "7      80   F            f                  f                         f    f   \n",
       "8      66   F            f                  f                         f    f   \n",
       "9      68   M            f                  f                         f    f   \n",
       "...   ...  ..          ...                ...                       ...  ...   \n",
       "3766   19   F            f                  f                         f    f   \n",
       "3768   68   F            f                  f                         f    f   \n",
       "3769   74   F            f                  f                         f    f   \n",
       "3770   72   M            f                  f                         f    f   \n",
       "3771   64   F            f                  f                         f    f   \n",
       "\n",
       "     pregnant thyroid_surgery I131_treatment query_hypothyroid  ...   T3  \\\n",
       "0           f               f              f                 f  ...  2.5   \n",
       "4           f               f              f                 f  ...  1.2   \n",
       "7           f               f              f                 f  ...  0.6   \n",
       "8           f               f              f                 f  ...  2.2   \n",
       "9           f               f              f                 f  ...  1.6   \n",
       "...       ...             ...            ...               ...  ...  ...   \n",
       "3766        f               f              f                 f  ...  2.7   \n",
       "3768        f               f              f                 f  ...  2.1   \n",
       "3769        f               f              f                 f  ...  1.8   \n",
       "3770        f               f              f                 f  ...  2.0   \n",
       "3771        f               f              f                 f  ...  2.2   \n",
       "\n",
       "     TT4_measured    TT4 T4U_measured   T4U FTI_measured    FTI  TBG_measured  \\\n",
       "0               t  125.0            t  1.14            t  109.0             f   \n",
       "4               t   61.0            t  0.87            t   70.0             f   \n",
       "7               t   80.0            t  0.70            t  115.0             f   \n",
       "8               t  123.0            t  0.93            t  132.0             f   \n",
       "9               t   83.0            t  0.89            t   93.0             f   \n",
       "...           ...    ...          ...   ...          ...    ...           ...   \n",
       "3766            t  108.0            t  1.11            t   97.0             f   \n",
       "3768            t  124.0            t  1.08            t  114.0             f   \n",
       "3769            t  112.0            t  1.07            t  105.0             f   \n",
       "3770            t   82.0            t  0.94            t   87.0             f   \n",
       "3771            t   99.0            t  1.07            t   92.0             f   \n",
       "\n",
       "     referral_source     Class  \n",
       "0               SVHC  negative  \n",
       "4                SVI  negative  \n",
       "7                SVI      sick  \n",
       "8                SVI  negative  \n",
       "9                SVI  negative  \n",
       "...              ...       ...  \n",
       "3766           other  negative  \n",
       "3768             SVI  negative  \n",
       "3769           other  negative  \n",
       "3770             SVI  negative  \n",
       "3771           other  negative  \n",
       "\n",
       "[2643 rows x 29 columns]"
      ]
     },
     "execution_count": 16,
     "metadata": {},
     "output_type": "execute_result"
    }
   ],
   "source": [
    "df"
   ]
  },
  {
   "cell_type": "code",
   "execution_count": 17,
   "metadata": {},
   "outputs": [
    {
     "data": {
      "text/plain": [
       "array([ 41,  70,  80,  66,  68,  84,  71,  59,  28,  63,  46,  81,  55,\n",
       "        60,  73,  34,  78,  37,  85,  26,  58,  44,  48,  61,  35,  83,\n",
       "        87,  64,  77,  65,  27,  54,  69,  74,  76,  82,  39,  49,  23,\n",
       "        62,  31,  57,  50,  72,  75,   7,  79,  51,  53,  30,  38,  21,\n",
       "        19,  24,  42,  15,  25,  45,  32,  47,   1,  16,  67,  13,  10,\n",
       "        43,  29,  33,  22,  18,  56,  20,  36,  52,  90,  40,  14,  86,\n",
       "        17,  12,   4,  89,   8,   5, 455,   2,  91,   6,  88,  93,  94,\n",
       "        92])"
      ]
     },
     "execution_count": 17,
     "metadata": {},
     "output_type": "execute_result"
    }
   ],
   "source": [
    "df['age'].unique()"
   ]
  },
  {
   "cell_type": "code",
   "execution_count": 18,
   "metadata": {},
   "outputs": [
    {
     "name": "stdout",
     "output_type": "stream",
     "text": [
      "<class 'pandas.core.frame.DataFrame'>\n",
      "Int64Index: 2643 entries, 0 to 3771\n",
      "Data columns (total 29 columns):\n",
      " #   Column                     Non-Null Count  Dtype  \n",
      "---  ------                     --------------  -----  \n",
      " 0   age                        2643 non-null   int32  \n",
      " 1   sex                        2643 non-null   object \n",
      " 2   on_thyroxine               2643 non-null   object \n",
      " 3   query_on_thyroxine         2643 non-null   object \n",
      " 4   on_antithyroid_medication  2643 non-null   object \n",
      " 5   sick                       2643 non-null   object \n",
      " 6   pregnant                   2643 non-null   object \n",
      " 7   thyroid_surgery            2643 non-null   object \n",
      " 8   I131_treatment             2643 non-null   object \n",
      " 9   query_hypothyroid          2643 non-null   object \n",
      " 10  query_hyperthyroid         2643 non-null   object \n",
      " 11  lithium                    2643 non-null   object \n",
      " 12  goitre                     2643 non-null   object \n",
      " 13  tumor                      2643 non-null   object \n",
      " 14  hypopituitary              2643 non-null   object \n",
      " 15  psych                      2643 non-null   object \n",
      " 16  TSH_measured               2643 non-null   object \n",
      " 17  TSH                        2643 non-null   float64\n",
      " 18  T3_measured                2643 non-null   object \n",
      " 19  T3                         2643 non-null   float64\n",
      " 20  TT4_measured               2643 non-null   object \n",
      " 21  TT4                        2643 non-null   float64\n",
      " 22  T4U_measured               2643 non-null   object \n",
      " 23  T4U                        2643 non-null   float64\n",
      " 24  FTI_measured               2643 non-null   object \n",
      " 25  FTI                        2643 non-null   float64\n",
      " 26  TBG_measured               2643 non-null   object \n",
      " 27  referral_source            2643 non-null   object \n",
      " 28  Class                      2643 non-null   object \n",
      "dtypes: float64(5), int32(1), object(23)\n",
      "memory usage: 609.1+ KB\n"
     ]
    }
   ],
   "source": [
    "df.info()"
   ]
  },
  {
   "cell_type": "code",
   "execution_count": 19,
   "metadata": {},
   "outputs": [
    {
     "data": {
      "text/plain": [
       "array(['F', 'M'], dtype=object)"
      ]
     },
     "execution_count": 19,
     "metadata": {},
     "output_type": "execute_result"
    }
   ],
   "source": [
    "df['sex'].unique()"
   ]
  },
  {
   "cell_type": "code",
   "execution_count": 20,
   "metadata": {},
   "outputs": [],
   "source": [
    "df.loc[df['sex']=='F', 'sex'] = 0\n",
    "df.loc[df['sex']=='M', 'sex'] = 1"
   ]
  },
  {
   "cell_type": "code",
   "execution_count": 21,
   "metadata": {},
   "outputs": [
    {
     "data": {
      "text/plain": [
       "array(['f', 't'], dtype=object)"
      ]
     },
     "execution_count": 21,
     "metadata": {},
     "output_type": "execute_result"
    }
   ],
   "source": [
    "df['on_thyroxine'].unique()"
   ]
  },
  {
   "cell_type": "code",
   "execution_count": 22,
   "metadata": {},
   "outputs": [],
   "source": [
    "df.loc[df['on_thyroxine']=='f', 'on_thyroxine'] = 0\n",
    "df.loc[df['on_thyroxine']=='t', 'on_thyroxine'] = 1"
   ]
  },
  {
   "cell_type": "code",
   "execution_count": 23,
   "metadata": {},
   "outputs": [
    {
     "data": {
      "text/plain": [
       "array(['f', 't'], dtype=object)"
      ]
     },
     "execution_count": 23,
     "metadata": {},
     "output_type": "execute_result"
    }
   ],
   "source": [
    "df['query_on_thyroxine'].unique()"
   ]
  },
  {
   "cell_type": "code",
   "execution_count": 24,
   "metadata": {},
   "outputs": [],
   "source": [
    "df.loc[df['query_on_thyroxine']=='f', 'query_on_thyroxine'] = 0\n",
    "df.loc[df['query_on_thyroxine']=='t', 'query_on_thyroxine'] = 1"
   ]
  },
  {
   "cell_type": "code",
   "execution_count": null,
   "metadata": {},
   "outputs": [],
   "source": [
    " "
   ]
  },
  {
   "cell_type": "code",
   "execution_count": 25,
   "metadata": {},
   "outputs": [
    {
     "data": {
      "text/plain": [
       "array(['f', 't'], dtype=object)"
      ]
     },
     "execution_count": 25,
     "metadata": {},
     "output_type": "execute_result"
    }
   ],
   "source": [
    "df['on_antithyroid_medication'].unique()"
   ]
  },
  {
   "cell_type": "code",
   "execution_count": 26,
   "metadata": {},
   "outputs": [],
   "source": [
    "df.loc[df['on_antithyroid_medication']=='f', 'on_antithyroid_medication'] = 0\n",
    "df.loc[df['on_antithyroid_medication']=='t', 'on_antithyroid_medication'] = 1"
   ]
  },
  {
   "cell_type": "code",
   "execution_count": 27,
   "metadata": {},
   "outputs": [
    {
     "data": {
      "text/plain": [
       "array(['f', 't'], dtype=object)"
      ]
     },
     "execution_count": 27,
     "metadata": {},
     "output_type": "execute_result"
    }
   ],
   "source": [
    "df['sick'].unique()"
   ]
  },
  {
   "cell_type": "code",
   "execution_count": 28,
   "metadata": {},
   "outputs": [],
   "source": [
    "df.loc[df['sick']=='f', 'sick'] = 0\n",
    "df.loc[df['sick']=='t', 'sick'] = 1"
   ]
  },
  {
   "cell_type": "code",
   "execution_count": 29,
   "metadata": {},
   "outputs": [
    {
     "data": {
      "text/plain": [
       "array(['f', 't'], dtype=object)"
      ]
     },
     "execution_count": 29,
     "metadata": {},
     "output_type": "execute_result"
    }
   ],
   "source": [
    "df['pregnant'].unique()"
   ]
  },
  {
   "cell_type": "code",
   "execution_count": 30,
   "metadata": {},
   "outputs": [],
   "source": [
    "df.loc[df['pregnant']=='f', 'pregnant'] = 0\n",
    "df.loc[df['pregnant']=='t', 'pregnant'] = 1"
   ]
  },
  {
   "cell_type": "code",
   "execution_count": 31,
   "metadata": {},
   "outputs": [
    {
     "data": {
      "text/plain": [
       "array(['f', 't'], dtype=object)"
      ]
     },
     "execution_count": 31,
     "metadata": {},
     "output_type": "execute_result"
    }
   ],
   "source": [
    "df['thyroid_surgery'].unique()"
   ]
  },
  {
   "cell_type": "code",
   "execution_count": 32,
   "metadata": {},
   "outputs": [],
   "source": [
    "df.loc[df['thyroid_surgery']=='f', 'thyroid_surgery'] = 0\n",
    "df.loc[df['thyroid_surgery']=='t', 'thyroid_surgery'] = 1"
   ]
  },
  {
   "cell_type": "code",
   "execution_count": 33,
   "metadata": {},
   "outputs": [
    {
     "data": {
      "text/plain": [
       "array(['f', 't'], dtype=object)"
      ]
     },
     "execution_count": 33,
     "metadata": {},
     "output_type": "execute_result"
    }
   ],
   "source": [
    "df['I131_treatment'].unique()"
   ]
  },
  {
   "cell_type": "code",
   "execution_count": 34,
   "metadata": {},
   "outputs": [],
   "source": [
    "df.loc[df['I131_treatment']=='f', 'I131_treatment'] = 0\n",
    "df.loc[df['I131_treatment']=='t', 'I131_treatment'] = 1"
   ]
  },
  {
   "cell_type": "code",
   "execution_count": 35,
   "metadata": {},
   "outputs": [
    {
     "data": {
      "text/plain": [
       "array(['f', 't'], dtype=object)"
      ]
     },
     "execution_count": 35,
     "metadata": {},
     "output_type": "execute_result"
    }
   ],
   "source": [
    "df['query_hypothyroid'].unique()"
   ]
  },
  {
   "cell_type": "code",
   "execution_count": 36,
   "metadata": {},
   "outputs": [],
   "source": [
    "df.loc[df['query_hypothyroid']=='f', 'query_hypothyroid'] = 0\n",
    "df.loc[df['query_hypothyroid']=='t', 'query_hypothyroid'] = 1"
   ]
  },
  {
   "cell_type": "code",
   "execution_count": 37,
   "metadata": {},
   "outputs": [
    {
     "data": {
      "text/plain": [
       "array(['f', 't'], dtype=object)"
      ]
     },
     "execution_count": 37,
     "metadata": {},
     "output_type": "execute_result"
    }
   ],
   "source": [
    "df['query_hyperthyroid'].unique()"
   ]
  },
  {
   "cell_type": "code",
   "execution_count": 38,
   "metadata": {},
   "outputs": [],
   "source": [
    "df.loc[df['query_hyperthyroid']=='f', 'query_hyperthyroid'] = 0\n",
    "df.loc[df['query_hyperthyroid']=='t', 'query_hyperthyroid'] = 1"
   ]
  },
  {
   "cell_type": "code",
   "execution_count": 39,
   "metadata": {},
   "outputs": [
    {
     "data": {
      "text/plain": [
       "array(['f', 't'], dtype=object)"
      ]
     },
     "execution_count": 39,
     "metadata": {},
     "output_type": "execute_result"
    }
   ],
   "source": [
    "df['lithium'].unique()"
   ]
  },
  {
   "cell_type": "code",
   "execution_count": 40,
   "metadata": {},
   "outputs": [],
   "source": [
    "df.loc[df['lithium']=='f', 'lithium'] = 0\n",
    "df.loc[df['lithium']=='t', 'lithium'] = 1"
   ]
  },
  {
   "cell_type": "code",
   "execution_count": 41,
   "metadata": {},
   "outputs": [
    {
     "data": {
      "text/plain": [
       "array(['f', 't'], dtype=object)"
      ]
     },
     "execution_count": 41,
     "metadata": {},
     "output_type": "execute_result"
    }
   ],
   "source": [
    "df['goitre'].unique()"
   ]
  },
  {
   "cell_type": "code",
   "execution_count": 42,
   "metadata": {},
   "outputs": [],
   "source": [
    "df.loc[df['goitre']=='f', 'goitre'] = 0\n",
    "df.loc[df['goitre']=='t', 'goitre'] = 1"
   ]
  },
  {
   "cell_type": "code",
   "execution_count": 43,
   "metadata": {},
   "outputs": [
    {
     "data": {
      "text/plain": [
       "array(['f', 't'], dtype=object)"
      ]
     },
     "execution_count": 43,
     "metadata": {},
     "output_type": "execute_result"
    }
   ],
   "source": [
    "df['tumor'].unique()"
   ]
  },
  {
   "cell_type": "code",
   "execution_count": 44,
   "metadata": {},
   "outputs": [],
   "source": [
    "df.loc[df['tumor']=='f', 'tumor'] = 0\n",
    "df.loc[df['tumor']=='t', 'tumor'] = 1"
   ]
  },
  {
   "cell_type": "code",
   "execution_count": 45,
   "metadata": {},
   "outputs": [
    {
     "data": {
      "text/plain": [
       "array(['f', 't'], dtype=object)"
      ]
     },
     "execution_count": 45,
     "metadata": {},
     "output_type": "execute_result"
    }
   ],
   "source": [
    "df['hypopituitary'].unique()"
   ]
  },
  {
   "cell_type": "code",
   "execution_count": 46,
   "metadata": {},
   "outputs": [],
   "source": [
    "df.loc[df['hypopituitary']=='f', 'hypopituitary'] = 0\n",
    "df.loc[df['hypopituitary']=='t', 'hypopituitary'] = 1"
   ]
  },
  {
   "cell_type": "code",
   "execution_count": 47,
   "metadata": {},
   "outputs": [],
   "source": [
    "df[['sex','on_thyroxine','query_on_thyroxine','on_antithyroid_medication','sick','pregnant','thyroid_surgery','I131_treatment','query_hypothyroid','lithium','goitre','tumor','hypopituitary','query_hyperthyroid']]=df[['sex','on_thyroxine','query_on_thyroxine','on_antithyroid_medication','sick','pregnant','thyroid_surgery','I131_treatment','query_hypothyroid','lithium','goitre','tumor','hypopituitary','query_hyperthyroid']].astype(int)"
   ]
  },
  {
   "cell_type": "code",
   "execution_count": 48,
   "metadata": {},
   "outputs": [
    {
     "data": {
      "text/plain": [
       "array([0, 1])"
      ]
     },
     "execution_count": 48,
     "metadata": {},
     "output_type": "execute_result"
    }
   ],
   "source": [
    "df['query_hyperthyroid'].unique()"
   ]
  },
  {
   "cell_type": "code",
   "execution_count": 49,
   "metadata": {},
   "outputs": [
    {
     "name": "stdout",
     "output_type": "stream",
     "text": [
      "<class 'pandas.core.frame.DataFrame'>\n",
      "Int64Index: 2643 entries, 0 to 3771\n",
      "Data columns (total 29 columns):\n",
      " #   Column                     Non-Null Count  Dtype  \n",
      "---  ------                     --------------  -----  \n",
      " 0   age                        2643 non-null   int32  \n",
      " 1   sex                        2643 non-null   int32  \n",
      " 2   on_thyroxine               2643 non-null   int32  \n",
      " 3   query_on_thyroxine         2643 non-null   int32  \n",
      " 4   on_antithyroid_medication  2643 non-null   int32  \n",
      " 5   sick                       2643 non-null   int32  \n",
      " 6   pregnant                   2643 non-null   int32  \n",
      " 7   thyroid_surgery            2643 non-null   int32  \n",
      " 8   I131_treatment             2643 non-null   int32  \n",
      " 9   query_hypothyroid          2643 non-null   int32  \n",
      " 10  query_hyperthyroid         2643 non-null   int32  \n",
      " 11  lithium                    2643 non-null   int32  \n",
      " 12  goitre                     2643 non-null   int32  \n",
      " 13  tumor                      2643 non-null   int32  \n",
      " 14  hypopituitary              2643 non-null   int32  \n",
      " 15  psych                      2643 non-null   object \n",
      " 16  TSH_measured               2643 non-null   object \n",
      " 17  TSH                        2643 non-null   float64\n",
      " 18  T3_measured                2643 non-null   object \n",
      " 19  T3                         2643 non-null   float64\n",
      " 20  TT4_measured               2643 non-null   object \n",
      " 21  TT4                        2643 non-null   float64\n",
      " 22  T4U_measured               2643 non-null   object \n",
      " 23  T4U                        2643 non-null   float64\n",
      " 24  FTI_measured               2643 non-null   object \n",
      " 25  FTI                        2643 non-null   float64\n",
      " 26  TBG_measured               2643 non-null   object \n",
      " 27  referral_source            2643 non-null   object \n",
      " 28  Class                      2643 non-null   object \n",
      "dtypes: float64(5), int32(15), object(9)\n",
      "memory usage: 464.6+ KB\n"
     ]
    }
   ],
   "source": [
    "df.info()"
   ]
  },
  {
   "cell_type": "code",
   "execution_count": 50,
   "metadata": {},
   "outputs": [
    {
     "data": {
      "text/plain": [
       "array(['f', 't'], dtype=object)"
      ]
     },
     "execution_count": 50,
     "metadata": {},
     "output_type": "execute_result"
    }
   ],
   "source": [
    "df['psych'].unique()"
   ]
  },
  {
   "cell_type": "code",
   "execution_count": 51,
   "metadata": {},
   "outputs": [],
   "source": [
    "df.loc[df['psych']=='f', 'psych'] = 0\n",
    "df.loc[df['psych']=='t', 'psych'] = 1"
   ]
  },
  {
   "cell_type": "code",
   "execution_count": 52,
   "metadata": {},
   "outputs": [
    {
     "data": {
      "text/plain": [
       "array(['t'], dtype=object)"
      ]
     },
     "execution_count": 52,
     "metadata": {},
     "output_type": "execute_result"
    }
   ],
   "source": [
    "df['TSH_measured'].unique()"
   ]
  },
  {
   "cell_type": "code",
   "execution_count": 53,
   "metadata": {},
   "outputs": [
    {
     "data": {
      "text/plain": [
       "array(['t'], dtype=object)"
      ]
     },
     "execution_count": 53,
     "metadata": {},
     "output_type": "execute_result"
    }
   ],
   "source": [
    "df['T3_measured'].unique()"
   ]
  },
  {
   "cell_type": "code",
   "execution_count": 54,
   "metadata": {},
   "outputs": [],
   "source": [
    " df = df.drop(['TSH_measured','T3_measured','TT4_measured', 'T4U_measured','FTI_measured','TBG_measured','referral_source'],axis=1)"
   ]
  },
  {
   "cell_type": "code",
   "execution_count": 55,
   "metadata": {},
   "outputs": [
    {
     "data": {
      "text/html": [
       "<div>\n",
       "<style scoped>\n",
       "    .dataframe tbody tr th:only-of-type {\n",
       "        vertical-align: middle;\n",
       "    }\n",
       "\n",
       "    .dataframe tbody tr th {\n",
       "        vertical-align: top;\n",
       "    }\n",
       "\n",
       "    .dataframe thead th {\n",
       "        text-align: right;\n",
       "    }\n",
       "</style>\n",
       "<table border=\"1\" class=\"dataframe\">\n",
       "  <thead>\n",
       "    <tr style=\"text-align: right;\">\n",
       "      <th></th>\n",
       "      <th>age</th>\n",
       "      <th>sex</th>\n",
       "      <th>on_thyroxine</th>\n",
       "      <th>query_on_thyroxine</th>\n",
       "      <th>on_antithyroid_medication</th>\n",
       "      <th>sick</th>\n",
       "      <th>pregnant</th>\n",
       "      <th>thyroid_surgery</th>\n",
       "      <th>I131_treatment</th>\n",
       "      <th>query_hypothyroid</th>\n",
       "      <th>...</th>\n",
       "      <th>goitre</th>\n",
       "      <th>tumor</th>\n",
       "      <th>hypopituitary</th>\n",
       "      <th>psych</th>\n",
       "      <th>TSH</th>\n",
       "      <th>T3</th>\n",
       "      <th>TT4</th>\n",
       "      <th>T4U</th>\n",
       "      <th>FTI</th>\n",
       "      <th>Class</th>\n",
       "    </tr>\n",
       "  </thead>\n",
       "  <tbody>\n",
       "    <tr>\n",
       "      <th>0</th>\n",
       "      <td>41</td>\n",
       "      <td>0</td>\n",
       "      <td>0</td>\n",
       "      <td>0</td>\n",
       "      <td>0</td>\n",
       "      <td>0</td>\n",
       "      <td>0</td>\n",
       "      <td>0</td>\n",
       "      <td>0</td>\n",
       "      <td>0</td>\n",
       "      <td>...</td>\n",
       "      <td>0</td>\n",
       "      <td>0</td>\n",
       "      <td>0</td>\n",
       "      <td>0</td>\n",
       "      <td>1.30</td>\n",
       "      <td>2.5</td>\n",
       "      <td>125.0</td>\n",
       "      <td>1.14</td>\n",
       "      <td>109.0</td>\n",
       "      <td>negative</td>\n",
       "    </tr>\n",
       "    <tr>\n",
       "      <th>4</th>\n",
       "      <td>70</td>\n",
       "      <td>0</td>\n",
       "      <td>0</td>\n",
       "      <td>0</td>\n",
       "      <td>0</td>\n",
       "      <td>0</td>\n",
       "      <td>0</td>\n",
       "      <td>0</td>\n",
       "      <td>0</td>\n",
       "      <td>0</td>\n",
       "      <td>...</td>\n",
       "      <td>0</td>\n",
       "      <td>0</td>\n",
       "      <td>0</td>\n",
       "      <td>0</td>\n",
       "      <td>0.72</td>\n",
       "      <td>1.2</td>\n",
       "      <td>61.0</td>\n",
       "      <td>0.87</td>\n",
       "      <td>70.0</td>\n",
       "      <td>negative</td>\n",
       "    </tr>\n",
       "    <tr>\n",
       "      <th>7</th>\n",
       "      <td>80</td>\n",
       "      <td>0</td>\n",
       "      <td>0</td>\n",
       "      <td>0</td>\n",
       "      <td>0</td>\n",
       "      <td>0</td>\n",
       "      <td>0</td>\n",
       "      <td>0</td>\n",
       "      <td>0</td>\n",
       "      <td>0</td>\n",
       "      <td>...</td>\n",
       "      <td>0</td>\n",
       "      <td>0</td>\n",
       "      <td>0</td>\n",
       "      <td>0</td>\n",
       "      <td>2.20</td>\n",
       "      <td>0.6</td>\n",
       "      <td>80.0</td>\n",
       "      <td>0.70</td>\n",
       "      <td>115.0</td>\n",
       "      <td>sick</td>\n",
       "    </tr>\n",
       "    <tr>\n",
       "      <th>8</th>\n",
       "      <td>66</td>\n",
       "      <td>0</td>\n",
       "      <td>0</td>\n",
       "      <td>0</td>\n",
       "      <td>0</td>\n",
       "      <td>0</td>\n",
       "      <td>0</td>\n",
       "      <td>0</td>\n",
       "      <td>0</td>\n",
       "      <td>0</td>\n",
       "      <td>...</td>\n",
       "      <td>0</td>\n",
       "      <td>1</td>\n",
       "      <td>0</td>\n",
       "      <td>0</td>\n",
       "      <td>0.60</td>\n",
       "      <td>2.2</td>\n",
       "      <td>123.0</td>\n",
       "      <td>0.93</td>\n",
       "      <td>132.0</td>\n",
       "      <td>negative</td>\n",
       "    </tr>\n",
       "    <tr>\n",
       "      <th>9</th>\n",
       "      <td>68</td>\n",
       "      <td>1</td>\n",
       "      <td>0</td>\n",
       "      <td>0</td>\n",
       "      <td>0</td>\n",
       "      <td>0</td>\n",
       "      <td>0</td>\n",
       "      <td>0</td>\n",
       "      <td>0</td>\n",
       "      <td>0</td>\n",
       "      <td>...</td>\n",
       "      <td>0</td>\n",
       "      <td>0</td>\n",
       "      <td>0</td>\n",
       "      <td>0</td>\n",
       "      <td>2.40</td>\n",
       "      <td>1.6</td>\n",
       "      <td>83.0</td>\n",
       "      <td>0.89</td>\n",
       "      <td>93.0</td>\n",
       "      <td>negative</td>\n",
       "    </tr>\n",
       "    <tr>\n",
       "      <th>...</th>\n",
       "      <td>...</td>\n",
       "      <td>...</td>\n",
       "      <td>...</td>\n",
       "      <td>...</td>\n",
       "      <td>...</td>\n",
       "      <td>...</td>\n",
       "      <td>...</td>\n",
       "      <td>...</td>\n",
       "      <td>...</td>\n",
       "      <td>...</td>\n",
       "      <td>...</td>\n",
       "      <td>...</td>\n",
       "      <td>...</td>\n",
       "      <td>...</td>\n",
       "      <td>...</td>\n",
       "      <td>...</td>\n",
       "      <td>...</td>\n",
       "      <td>...</td>\n",
       "      <td>...</td>\n",
       "      <td>...</td>\n",
       "      <td>...</td>\n",
       "    </tr>\n",
       "    <tr>\n",
       "      <th>3766</th>\n",
       "      <td>19</td>\n",
       "      <td>0</td>\n",
       "      <td>0</td>\n",
       "      <td>0</td>\n",
       "      <td>0</td>\n",
       "      <td>0</td>\n",
       "      <td>0</td>\n",
       "      <td>0</td>\n",
       "      <td>0</td>\n",
       "      <td>0</td>\n",
       "      <td>...</td>\n",
       "      <td>0</td>\n",
       "      <td>0</td>\n",
       "      <td>0</td>\n",
       "      <td>0</td>\n",
       "      <td>8.80</td>\n",
       "      <td>2.7</td>\n",
       "      <td>108.0</td>\n",
       "      <td>1.11</td>\n",
       "      <td>97.0</td>\n",
       "      <td>negative</td>\n",
       "    </tr>\n",
       "    <tr>\n",
       "      <th>3768</th>\n",
       "      <td>68</td>\n",
       "      <td>0</td>\n",
       "      <td>0</td>\n",
       "      <td>0</td>\n",
       "      <td>0</td>\n",
       "      <td>0</td>\n",
       "      <td>0</td>\n",
       "      <td>0</td>\n",
       "      <td>0</td>\n",
       "      <td>0</td>\n",
       "      <td>...</td>\n",
       "      <td>0</td>\n",
       "      <td>0</td>\n",
       "      <td>0</td>\n",
       "      <td>0</td>\n",
       "      <td>1.00</td>\n",
       "      <td>2.1</td>\n",
       "      <td>124.0</td>\n",
       "      <td>1.08</td>\n",
       "      <td>114.0</td>\n",
       "      <td>negative</td>\n",
       "    </tr>\n",
       "    <tr>\n",
       "      <th>3769</th>\n",
       "      <td>74</td>\n",
       "      <td>0</td>\n",
       "      <td>0</td>\n",
       "      <td>0</td>\n",
       "      <td>0</td>\n",
       "      <td>0</td>\n",
       "      <td>0</td>\n",
       "      <td>0</td>\n",
       "      <td>0</td>\n",
       "      <td>0</td>\n",
       "      <td>...</td>\n",
       "      <td>0</td>\n",
       "      <td>0</td>\n",
       "      <td>0</td>\n",
       "      <td>0</td>\n",
       "      <td>5.10</td>\n",
       "      <td>1.8</td>\n",
       "      <td>112.0</td>\n",
       "      <td>1.07</td>\n",
       "      <td>105.0</td>\n",
       "      <td>negative</td>\n",
       "    </tr>\n",
       "    <tr>\n",
       "      <th>3770</th>\n",
       "      <td>72</td>\n",
       "      <td>1</td>\n",
       "      <td>0</td>\n",
       "      <td>0</td>\n",
       "      <td>0</td>\n",
       "      <td>0</td>\n",
       "      <td>0</td>\n",
       "      <td>0</td>\n",
       "      <td>0</td>\n",
       "      <td>0</td>\n",
       "      <td>...</td>\n",
       "      <td>0</td>\n",
       "      <td>0</td>\n",
       "      <td>0</td>\n",
       "      <td>0</td>\n",
       "      <td>0.70</td>\n",
       "      <td>2.0</td>\n",
       "      <td>82.0</td>\n",
       "      <td>0.94</td>\n",
       "      <td>87.0</td>\n",
       "      <td>negative</td>\n",
       "    </tr>\n",
       "    <tr>\n",
       "      <th>3771</th>\n",
       "      <td>64</td>\n",
       "      <td>0</td>\n",
       "      <td>0</td>\n",
       "      <td>0</td>\n",
       "      <td>0</td>\n",
       "      <td>0</td>\n",
       "      <td>0</td>\n",
       "      <td>0</td>\n",
       "      <td>0</td>\n",
       "      <td>0</td>\n",
       "      <td>...</td>\n",
       "      <td>0</td>\n",
       "      <td>0</td>\n",
       "      <td>0</td>\n",
       "      <td>0</td>\n",
       "      <td>1.00</td>\n",
       "      <td>2.2</td>\n",
       "      <td>99.0</td>\n",
       "      <td>1.07</td>\n",
       "      <td>92.0</td>\n",
       "      <td>negative</td>\n",
       "    </tr>\n",
       "  </tbody>\n",
       "</table>\n",
       "<p>2643 rows × 22 columns</p>\n",
       "</div>"
      ],
      "text/plain": [
       "      age  sex  on_thyroxine  query_on_thyroxine  on_antithyroid_medication  \\\n",
       "0      41    0             0                   0                          0   \n",
       "4      70    0             0                   0                          0   \n",
       "7      80    0             0                   0                          0   \n",
       "8      66    0             0                   0                          0   \n",
       "9      68    1             0                   0                          0   \n",
       "...   ...  ...           ...                 ...                        ...   \n",
       "3766   19    0             0                   0                          0   \n",
       "3768   68    0             0                   0                          0   \n",
       "3769   74    0             0                   0                          0   \n",
       "3770   72    1             0                   0                          0   \n",
       "3771   64    0             0                   0                          0   \n",
       "\n",
       "      sick  pregnant  thyroid_surgery  I131_treatment  query_hypothyroid  ...  \\\n",
       "0        0         0                0               0                  0  ...   \n",
       "4        0         0                0               0                  0  ...   \n",
       "7        0         0                0               0                  0  ...   \n",
       "8        0         0                0               0                  0  ...   \n",
       "9        0         0                0               0                  0  ...   \n",
       "...    ...       ...              ...             ...                ...  ...   \n",
       "3766     0         0                0               0                  0  ...   \n",
       "3768     0         0                0               0                  0  ...   \n",
       "3769     0         0                0               0                  0  ...   \n",
       "3770     0         0                0               0                  0  ...   \n",
       "3771     0         0                0               0                  0  ...   \n",
       "\n",
       "      goitre  tumor  hypopituitary  psych   TSH   T3    TT4   T4U    FTI  \\\n",
       "0          0      0              0      0  1.30  2.5  125.0  1.14  109.0   \n",
       "4          0      0              0      0  0.72  1.2   61.0  0.87   70.0   \n",
       "7          0      0              0      0  2.20  0.6   80.0  0.70  115.0   \n",
       "8          0      1              0      0  0.60  2.2  123.0  0.93  132.0   \n",
       "9          0      0              0      0  2.40  1.6   83.0  0.89   93.0   \n",
       "...      ...    ...            ...    ...   ...  ...    ...   ...    ...   \n",
       "3766       0      0              0      0  8.80  2.7  108.0  1.11   97.0   \n",
       "3768       0      0              0      0  1.00  2.1  124.0  1.08  114.0   \n",
       "3769       0      0              0      0  5.10  1.8  112.0  1.07  105.0   \n",
       "3770       0      0              0      0  0.70  2.0   82.0  0.94   87.0   \n",
       "3771       0      0              0      0  1.00  2.2   99.0  1.07   92.0   \n",
       "\n",
       "         Class  \n",
       "0     negative  \n",
       "4     negative  \n",
       "7         sick  \n",
       "8     negative  \n",
       "9     negative  \n",
       "...        ...  \n",
       "3766  negative  \n",
       "3768  negative  \n",
       "3769  negative  \n",
       "3770  negative  \n",
       "3771  negative  \n",
       "\n",
       "[2643 rows x 22 columns]"
      ]
     },
     "execution_count": 55,
     "metadata": {},
     "output_type": "execute_result"
    }
   ],
   "source": [
    "df"
   ]
  },
  {
   "cell_type": "code",
   "execution_count": 56,
   "metadata": {},
   "outputs": [],
   "source": [
    "X = df.drop(['Class'], axis = 1)\n",
    "\n",
    "y = df['Class']"
   ]
  },
  {
   "cell_type": "code",
   "execution_count": 57,
   "metadata": {},
   "outputs": [
    {
     "data": {
      "text/html": [
       "<div>\n",
       "<style scoped>\n",
       "    .dataframe tbody tr th:only-of-type {\n",
       "        vertical-align: middle;\n",
       "    }\n",
       "\n",
       "    .dataframe tbody tr th {\n",
       "        vertical-align: top;\n",
       "    }\n",
       "\n",
       "    .dataframe thead th {\n",
       "        text-align: right;\n",
       "    }\n",
       "</style>\n",
       "<table border=\"1\" class=\"dataframe\">\n",
       "  <thead>\n",
       "    <tr style=\"text-align: right;\">\n",
       "      <th></th>\n",
       "      <th>age</th>\n",
       "      <th>sex</th>\n",
       "      <th>on_thyroxine</th>\n",
       "      <th>query_on_thyroxine</th>\n",
       "      <th>on_antithyroid_medication</th>\n",
       "      <th>sick</th>\n",
       "      <th>pregnant</th>\n",
       "      <th>thyroid_surgery</th>\n",
       "      <th>I131_treatment</th>\n",
       "      <th>query_hypothyroid</th>\n",
       "      <th>...</th>\n",
       "      <th>lithium</th>\n",
       "      <th>goitre</th>\n",
       "      <th>tumor</th>\n",
       "      <th>hypopituitary</th>\n",
       "      <th>psych</th>\n",
       "      <th>TSH</th>\n",
       "      <th>T3</th>\n",
       "      <th>TT4</th>\n",
       "      <th>T4U</th>\n",
       "      <th>FTI</th>\n",
       "    </tr>\n",
       "  </thead>\n",
       "  <tbody>\n",
       "    <tr>\n",
       "      <th>0</th>\n",
       "      <td>41</td>\n",
       "      <td>0</td>\n",
       "      <td>0</td>\n",
       "      <td>0</td>\n",
       "      <td>0</td>\n",
       "      <td>0</td>\n",
       "      <td>0</td>\n",
       "      <td>0</td>\n",
       "      <td>0</td>\n",
       "      <td>0</td>\n",
       "      <td>...</td>\n",
       "      <td>0</td>\n",
       "      <td>0</td>\n",
       "      <td>0</td>\n",
       "      <td>0</td>\n",
       "      <td>0</td>\n",
       "      <td>1.30</td>\n",
       "      <td>2.5</td>\n",
       "      <td>125.0</td>\n",
       "      <td>1.14</td>\n",
       "      <td>109.0</td>\n",
       "    </tr>\n",
       "    <tr>\n",
       "      <th>4</th>\n",
       "      <td>70</td>\n",
       "      <td>0</td>\n",
       "      <td>0</td>\n",
       "      <td>0</td>\n",
       "      <td>0</td>\n",
       "      <td>0</td>\n",
       "      <td>0</td>\n",
       "      <td>0</td>\n",
       "      <td>0</td>\n",
       "      <td>0</td>\n",
       "      <td>...</td>\n",
       "      <td>0</td>\n",
       "      <td>0</td>\n",
       "      <td>0</td>\n",
       "      <td>0</td>\n",
       "      <td>0</td>\n",
       "      <td>0.72</td>\n",
       "      <td>1.2</td>\n",
       "      <td>61.0</td>\n",
       "      <td>0.87</td>\n",
       "      <td>70.0</td>\n",
       "    </tr>\n",
       "    <tr>\n",
       "      <th>7</th>\n",
       "      <td>80</td>\n",
       "      <td>0</td>\n",
       "      <td>0</td>\n",
       "      <td>0</td>\n",
       "      <td>0</td>\n",
       "      <td>0</td>\n",
       "      <td>0</td>\n",
       "      <td>0</td>\n",
       "      <td>0</td>\n",
       "      <td>0</td>\n",
       "      <td>...</td>\n",
       "      <td>0</td>\n",
       "      <td>0</td>\n",
       "      <td>0</td>\n",
       "      <td>0</td>\n",
       "      <td>0</td>\n",
       "      <td>2.20</td>\n",
       "      <td>0.6</td>\n",
       "      <td>80.0</td>\n",
       "      <td>0.70</td>\n",
       "      <td>115.0</td>\n",
       "    </tr>\n",
       "    <tr>\n",
       "      <th>8</th>\n",
       "      <td>66</td>\n",
       "      <td>0</td>\n",
       "      <td>0</td>\n",
       "      <td>0</td>\n",
       "      <td>0</td>\n",
       "      <td>0</td>\n",
       "      <td>0</td>\n",
       "      <td>0</td>\n",
       "      <td>0</td>\n",
       "      <td>0</td>\n",
       "      <td>...</td>\n",
       "      <td>0</td>\n",
       "      <td>0</td>\n",
       "      <td>1</td>\n",
       "      <td>0</td>\n",
       "      <td>0</td>\n",
       "      <td>0.60</td>\n",
       "      <td>2.2</td>\n",
       "      <td>123.0</td>\n",
       "      <td>0.93</td>\n",
       "      <td>132.0</td>\n",
       "    </tr>\n",
       "    <tr>\n",
       "      <th>9</th>\n",
       "      <td>68</td>\n",
       "      <td>1</td>\n",
       "      <td>0</td>\n",
       "      <td>0</td>\n",
       "      <td>0</td>\n",
       "      <td>0</td>\n",
       "      <td>0</td>\n",
       "      <td>0</td>\n",
       "      <td>0</td>\n",
       "      <td>0</td>\n",
       "      <td>...</td>\n",
       "      <td>0</td>\n",
       "      <td>0</td>\n",
       "      <td>0</td>\n",
       "      <td>0</td>\n",
       "      <td>0</td>\n",
       "      <td>2.40</td>\n",
       "      <td>1.6</td>\n",
       "      <td>83.0</td>\n",
       "      <td>0.89</td>\n",
       "      <td>93.0</td>\n",
       "    </tr>\n",
       "    <tr>\n",
       "      <th>...</th>\n",
       "      <td>...</td>\n",
       "      <td>...</td>\n",
       "      <td>...</td>\n",
       "      <td>...</td>\n",
       "      <td>...</td>\n",
       "      <td>...</td>\n",
       "      <td>...</td>\n",
       "      <td>...</td>\n",
       "      <td>...</td>\n",
       "      <td>...</td>\n",
       "      <td>...</td>\n",
       "      <td>...</td>\n",
       "      <td>...</td>\n",
       "      <td>...</td>\n",
       "      <td>...</td>\n",
       "      <td>...</td>\n",
       "      <td>...</td>\n",
       "      <td>...</td>\n",
       "      <td>...</td>\n",
       "      <td>...</td>\n",
       "      <td>...</td>\n",
       "    </tr>\n",
       "    <tr>\n",
       "      <th>3766</th>\n",
       "      <td>19</td>\n",
       "      <td>0</td>\n",
       "      <td>0</td>\n",
       "      <td>0</td>\n",
       "      <td>0</td>\n",
       "      <td>0</td>\n",
       "      <td>0</td>\n",
       "      <td>0</td>\n",
       "      <td>0</td>\n",
       "      <td>0</td>\n",
       "      <td>...</td>\n",
       "      <td>0</td>\n",
       "      <td>0</td>\n",
       "      <td>0</td>\n",
       "      <td>0</td>\n",
       "      <td>0</td>\n",
       "      <td>8.80</td>\n",
       "      <td>2.7</td>\n",
       "      <td>108.0</td>\n",
       "      <td>1.11</td>\n",
       "      <td>97.0</td>\n",
       "    </tr>\n",
       "    <tr>\n",
       "      <th>3768</th>\n",
       "      <td>68</td>\n",
       "      <td>0</td>\n",
       "      <td>0</td>\n",
       "      <td>0</td>\n",
       "      <td>0</td>\n",
       "      <td>0</td>\n",
       "      <td>0</td>\n",
       "      <td>0</td>\n",
       "      <td>0</td>\n",
       "      <td>0</td>\n",
       "      <td>...</td>\n",
       "      <td>0</td>\n",
       "      <td>0</td>\n",
       "      <td>0</td>\n",
       "      <td>0</td>\n",
       "      <td>0</td>\n",
       "      <td>1.00</td>\n",
       "      <td>2.1</td>\n",
       "      <td>124.0</td>\n",
       "      <td>1.08</td>\n",
       "      <td>114.0</td>\n",
       "    </tr>\n",
       "    <tr>\n",
       "      <th>3769</th>\n",
       "      <td>74</td>\n",
       "      <td>0</td>\n",
       "      <td>0</td>\n",
       "      <td>0</td>\n",
       "      <td>0</td>\n",
       "      <td>0</td>\n",
       "      <td>0</td>\n",
       "      <td>0</td>\n",
       "      <td>0</td>\n",
       "      <td>0</td>\n",
       "      <td>...</td>\n",
       "      <td>0</td>\n",
       "      <td>0</td>\n",
       "      <td>0</td>\n",
       "      <td>0</td>\n",
       "      <td>0</td>\n",
       "      <td>5.10</td>\n",
       "      <td>1.8</td>\n",
       "      <td>112.0</td>\n",
       "      <td>1.07</td>\n",
       "      <td>105.0</td>\n",
       "    </tr>\n",
       "    <tr>\n",
       "      <th>3770</th>\n",
       "      <td>72</td>\n",
       "      <td>1</td>\n",
       "      <td>0</td>\n",
       "      <td>0</td>\n",
       "      <td>0</td>\n",
       "      <td>0</td>\n",
       "      <td>0</td>\n",
       "      <td>0</td>\n",
       "      <td>0</td>\n",
       "      <td>0</td>\n",
       "      <td>...</td>\n",
       "      <td>0</td>\n",
       "      <td>0</td>\n",
       "      <td>0</td>\n",
       "      <td>0</td>\n",
       "      <td>0</td>\n",
       "      <td>0.70</td>\n",
       "      <td>2.0</td>\n",
       "      <td>82.0</td>\n",
       "      <td>0.94</td>\n",
       "      <td>87.0</td>\n",
       "    </tr>\n",
       "    <tr>\n",
       "      <th>3771</th>\n",
       "      <td>64</td>\n",
       "      <td>0</td>\n",
       "      <td>0</td>\n",
       "      <td>0</td>\n",
       "      <td>0</td>\n",
       "      <td>0</td>\n",
       "      <td>0</td>\n",
       "      <td>0</td>\n",
       "      <td>0</td>\n",
       "      <td>0</td>\n",
       "      <td>...</td>\n",
       "      <td>0</td>\n",
       "      <td>0</td>\n",
       "      <td>0</td>\n",
       "      <td>0</td>\n",
       "      <td>0</td>\n",
       "      <td>1.00</td>\n",
       "      <td>2.2</td>\n",
       "      <td>99.0</td>\n",
       "      <td>1.07</td>\n",
       "      <td>92.0</td>\n",
       "    </tr>\n",
       "  </tbody>\n",
       "</table>\n",
       "<p>2643 rows × 21 columns</p>\n",
       "</div>"
      ],
      "text/plain": [
       "      age  sex  on_thyroxine  query_on_thyroxine  on_antithyroid_medication  \\\n",
       "0      41    0             0                   0                          0   \n",
       "4      70    0             0                   0                          0   \n",
       "7      80    0             0                   0                          0   \n",
       "8      66    0             0                   0                          0   \n",
       "9      68    1             0                   0                          0   \n",
       "...   ...  ...           ...                 ...                        ...   \n",
       "3766   19    0             0                   0                          0   \n",
       "3768   68    0             0                   0                          0   \n",
       "3769   74    0             0                   0                          0   \n",
       "3770   72    1             0                   0                          0   \n",
       "3771   64    0             0                   0                          0   \n",
       "\n",
       "      sick  pregnant  thyroid_surgery  I131_treatment  query_hypothyroid  ...  \\\n",
       "0        0         0                0               0                  0  ...   \n",
       "4        0         0                0               0                  0  ...   \n",
       "7        0         0                0               0                  0  ...   \n",
       "8        0         0                0               0                  0  ...   \n",
       "9        0         0                0               0                  0  ...   \n",
       "...    ...       ...              ...             ...                ...  ...   \n",
       "3766     0         0                0               0                  0  ...   \n",
       "3768     0         0                0               0                  0  ...   \n",
       "3769     0         0                0               0                  0  ...   \n",
       "3770     0         0                0               0                  0  ...   \n",
       "3771     0         0                0               0                  0  ...   \n",
       "\n",
       "      lithium  goitre  tumor  hypopituitary  psych   TSH   T3    TT4   T4U  \\\n",
       "0           0       0      0              0      0  1.30  2.5  125.0  1.14   \n",
       "4           0       0      0              0      0  0.72  1.2   61.0  0.87   \n",
       "7           0       0      0              0      0  2.20  0.6   80.0  0.70   \n",
       "8           0       0      1              0      0  0.60  2.2  123.0  0.93   \n",
       "9           0       0      0              0      0  2.40  1.6   83.0  0.89   \n",
       "...       ...     ...    ...            ...    ...   ...  ...    ...   ...   \n",
       "3766        0       0      0              0      0  8.80  2.7  108.0  1.11   \n",
       "3768        0       0      0              0      0  1.00  2.1  124.0  1.08   \n",
       "3769        0       0      0              0      0  5.10  1.8  112.0  1.07   \n",
       "3770        0       0      0              0      0  0.70  2.0   82.0  0.94   \n",
       "3771        0       0      0              0      0  1.00  2.2   99.0  1.07   \n",
       "\n",
       "        FTI  \n",
       "0     109.0  \n",
       "4      70.0  \n",
       "7     115.0  \n",
       "8     132.0  \n",
       "9      93.0  \n",
       "...     ...  \n",
       "3766   97.0  \n",
       "3768  114.0  \n",
       "3769  105.0  \n",
       "3770   87.0  \n",
       "3771   92.0  \n",
       "\n",
       "[2643 rows x 21 columns]"
      ]
     },
     "execution_count": 57,
     "metadata": {},
     "output_type": "execute_result"
    }
   ],
   "source": [
    "X"
   ]
  },
  {
   "cell_type": "code",
   "execution_count": 58,
   "metadata": {},
   "outputs": [
    {
     "name": "stdout",
     "output_type": "stream",
     "text": [
      "<class 'pandas.core.frame.DataFrame'>\n",
      "Int64Index: 2643 entries, 0 to 3771\n",
      "Data columns (total 21 columns):\n",
      " #   Column                     Non-Null Count  Dtype  \n",
      "---  ------                     --------------  -----  \n",
      " 0   age                        2643 non-null   int32  \n",
      " 1   sex                        2643 non-null   int32  \n",
      " 2   on_thyroxine               2643 non-null   int32  \n",
      " 3   query_on_thyroxine         2643 non-null   int32  \n",
      " 4   on_antithyroid_medication  2643 non-null   int32  \n",
      " 5   sick                       2643 non-null   int32  \n",
      " 6   pregnant                   2643 non-null   int32  \n",
      " 7   thyroid_surgery            2643 non-null   int32  \n",
      " 8   I131_treatment             2643 non-null   int32  \n",
      " 9   query_hypothyroid          2643 non-null   int32  \n",
      " 10  query_hyperthyroid         2643 non-null   int32  \n",
      " 11  lithium                    2643 non-null   int32  \n",
      " 12  goitre                     2643 non-null   int32  \n",
      " 13  tumor                      2643 non-null   int32  \n",
      " 14  hypopituitary              2643 non-null   int32  \n",
      " 15  psych                      2643 non-null   object \n",
      " 16  TSH                        2643 non-null   float64\n",
      " 17  T3                         2643 non-null   float64\n",
      " 18  TT4                        2643 non-null   float64\n",
      " 19  T4U                        2643 non-null   float64\n",
      " 20  FTI                        2643 non-null   float64\n",
      "dtypes: float64(5), int32(15), object(1)\n",
      "memory usage: 299.4+ KB\n"
     ]
    }
   ],
   "source": [
    "X.info()"
   ]
  },
  {
   "cell_type": "code",
   "execution_count": 58,
   "metadata": {},
   "outputs": [
    {
     "data": {
      "text/plain": [
       "0       negative\n",
       "4       negative\n",
       "7           sick\n",
       "8       negative\n",
       "9       negative\n",
       "          ...   \n",
       "3766    negative\n",
       "3768    negative\n",
       "3769    negative\n",
       "3770    negative\n",
       "3771    negative\n",
       "Name: Class, Length: 2643, dtype: object"
      ]
     },
     "execution_count": 58,
     "metadata": {},
     "output_type": "execute_result"
    }
   ],
   "source": [
    "y"
   ]
  },
  {
   "cell_type": "code",
   "execution_count": 59,
   "metadata": {},
   "outputs": [],
   "source": [
    "import numpy as np\n",
    "import pandas as pd\n",
    "from sklearn.tree import DecisionTreeClassifier"
   ]
  },
  {
   "cell_type": "code",
   "execution_count": 60,
   "metadata": {},
   "outputs": [
    {
     "name": "stdout",
     "output_type": "stream",
     "text": [
      "(1850, 21)\n",
      "(793, 21)\n"
     ]
    }
   ],
   "source": [
    "from sklearn.model_selection import train_test_split\n",
    "X_train, X_test, y_train, y_test = train_test_split(X, y, test_size=0.3, random_state=9)\n",
    "print(X_train.shape)\n",
    "print(X_test.shape)"
   ]
  },
  {
   "cell_type": "code",
   "execution_count": 61,
   "metadata": {},
   "outputs": [
    {
     "data": {
      "text/plain": [
       "DecisionTreeClassifier(random_state=0)"
      ]
     },
     "execution_count": 61,
     "metadata": {},
     "output_type": "execute_result"
    }
   ],
   "source": [
    "from sklearn.tree import DecisionTreeClassifier\n",
    "clf = DecisionTreeClassifier(random_state=0)\n",
    "clf.fit(X_train, y_train) "
   ]
  },
  {
   "cell_type": "code",
   "execution_count": 62,
   "metadata": {},
   "outputs": [
    {
     "data": {
      "text/plain": [
       "1.0"
      ]
     },
     "execution_count": 62,
     "metadata": {},
     "output_type": "execute_result"
    }
   ],
   "source": [
    "clf.score(X_train,y_train)"
   ]
  },
  {
   "cell_type": "code",
   "execution_count": 63,
   "metadata": {},
   "outputs": [
    {
     "data": {
      "text/plain": [
       "0.9773013871374527"
      ]
     },
     "execution_count": 63,
     "metadata": {},
     "output_type": "execute_result"
    }
   ],
   "source": [
    "from sklearn.metrics import accuracy_score\n",
    "y_pred = clf.predict(X_test )\n",
    "accuracy_score(y_pred,y_test) "
   ]
  },
  {
   "cell_type": "code",
   "execution_count": 64,
   "metadata": {},
   "outputs": [],
   "source": [
    "import sklearn.metrics"
   ]
  },
  {
   "cell_type": "code",
   "execution_count": 65,
   "metadata": {},
   "outputs": [
    {
     "name": "stdout",
     "output_type": "stream",
     "text": [
      "              precision    recall  f1-score   support\n",
      "\n",
      "    negative       0.99      0.99      0.99       737\n",
      "        sick       0.85      0.82      0.84        56\n",
      "\n",
      "    accuracy                           0.98       793\n",
      "   macro avg       0.92      0.91      0.91       793\n",
      "weighted avg       0.98      0.98      0.98       793\n",
      "\n"
     ]
    }
   ],
   "source": [
    "print(sklearn.metrics.classification_report(y_test, y_pred))"
   ]
  },
  {
   "cell_type": "code",
   "execution_count": 66,
   "metadata": {},
   "outputs": [
    {
     "data": {
      "text/plain": [
       "array([[729,   8],\n",
       "       [ 10,  46]], dtype=int64)"
      ]
     },
     "execution_count": 66,
     "metadata": {},
     "output_type": "execute_result"
    }
   ],
   "source": [
    "y_pred = clf.predict(X_test )\n",
    "y_true=y_test\n",
    "\n",
    "\n",
    "from sklearn.metrics import confusion_matrix\n",
    "cm=confusion_matrix(y_true,y_pred)\n",
    "cm"
   ]
  },
  {
   "cell_type": "code",
   "execution_count": 67,
   "metadata": {},
   "outputs": [
    {
     "data": {
      "image/png": "[encoded data removed]",
      "text/plain": [
       "<Figure size 360x360 with 2 Axes>"
      ]
     },
     "metadata": {
      "needs_background": "light"
     },
     "output_type": "display_data"
    }
   ],
   "source": [
    "import seaborn as sns\n",
    "import matplotlib.pyplot as plt\n",
    "\n",
    "f, ax=plt.subplots(figsize=(5,5))\n",
    "sns.heatmap(cm,annot=True,linewidths=0.5,linecolor=\"red\",fmt=\".0f\",ax=ax)\n",
    "plt.xlabel(\"y_pred\")\n",
    "plt.ylabel(\"y_true\")\n",
    "plt.show()"
   ]
  },
  {
   "cell_type": "code",
   "execution_count": 68,
   "metadata": {},
   "outputs": [],
   "source": [
    "import pickle\n",
    "\n",
    "pickle.dump(clf,open('thyroid.pkl','wb'))\n",
    "thyroid = pickle.load(open('thyroid.pkl','rb'))"
   ]
  },
  {
   "cell_type": "code",
   "execution_count": null,
   "metadata": {},
   "outputs": [],
   "source": []
  }
 ],
 "metadata": {
  "kernelspec": {
   "display_name": "Python 3 (ipykernel)",
   "language": "python",
   "name": "python3"
  },
  "language_info": {
   "codemirror_mode": {
    "name": "ipython",
    "version": 3
   },
   "file_extension": ".py",
   "mimetype": "text/x-python",
   "name": "python",
   "nbconvert_exporter": "python",
   "pygments_lexer": "ipython3",
   "version": "3.9.12"
  },
  "vscode": {
   "interpreter": {
    "hash": "86c09a04604f81c7c62e58c4e4933b19a1c58f4b64ba50187bda4ccf878853db"
   }
  }
 },
 "nbformat": 4,
 "nbformat_minor": 2
}
